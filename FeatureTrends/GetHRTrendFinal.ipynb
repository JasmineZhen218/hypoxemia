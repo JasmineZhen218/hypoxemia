{
  "nbformat": 4,
  "nbformat_minor": 0,
  "metadata": {
    "colab": {
      "name": "GetHRTrendFinal.ipynb",
      "provenance": [],
      "collapsed_sections": []
    },
    "kernelspec": {
      "name": "python3",
      "display_name": "Python 3"
    }
  },
  "cells": [
    {
      "cell_type": "code",
      "metadata": {
        "id": "LdstGxGtPX4X",
        "colab_type": "code",
        "colab": {}
      },
      "source": [
        "import json\n",
        "import matplotlib.pyplot as plt\n",
        "import numpy as np\n",
        "import math\n",
        "import pandas as pd\n",
        "from scipy import stats"
      ],
      "execution_count": 0,
      "outputs": []
    },
    {
      "cell_type": "code",
      "metadata": {
        "id": "DS6OnLzJRWav",
        "colab_type": "code",
        "outputId": "68015ccb-8acd-406e-889a-1a473ae6a8a7",
        "colab": {
          "base_uri": "https://localhost:8080/",
          "height": 122
        }
      },
      "source": [
        "from google.colab import drive\n",
        "drive.mount('/content/drive')\n",
        "\n",
        "dir = '/content/drive/My Drive/College Stuff/Precision Care Medicine/Code and Stuff/Time-series/'"
      ],
      "execution_count": 2,
      "outputs": [
        {
          "output_type": "stream",
          "text": [
            "Go to this URL in a browser: https://accounts.google.com/o/oauth2/auth?client_id=947318989803-6bn6qk8qdgf4n4g3pfee6491hc0brc4i.apps.googleusercontent.com&redirect_uri=urn%3aietf%3awg%3aoauth%3a2.0%3aoob&response_type=code&scope=email%20https%3a%2f%2fwww.googleapis.com%2fauth%2fdocs.test%20https%3a%2f%2fwww.googleapis.com%2fauth%2fdrive%20https%3a%2f%2fwww.googleapis.com%2fauth%2fdrive.photos.readonly%20https%3a%2f%2fwww.googleapis.com%2fauth%2fpeopleapi.readonly\n",
            "\n",
            "Enter your authorization code:\n",
            "··········\n",
            "Mounted at /content/drive\n"
          ],
          "name": "stdout"
        }
      ]
    },
    {
      "cell_type": "code",
      "metadata": {
        "id": "CC0RkKn-SFKH",
        "colab_type": "code",
        "colab": {}
      },
      "source": [
        "with open(dir + 'HR_clean.json', 'r') as json_file:\n",
        "  data = json.load(json_file)"
      ],
      "execution_count": 0,
      "outputs": []
    },
    {
      "cell_type": "code",
      "metadata": {
        "id": "01_s1LKmS6_9",
        "colab_type": "code",
        "colab": {}
      },
      "source": [
        "e = pd.read_csv('/content/drive/My Drive/Colab Notebooks/events_train.csv')"
      ],
      "execution_count": 0,
      "outputs": []
    },
    {
      "cell_type": "code",
      "metadata": {
        "id": "C4HCHpCOfFaf",
        "colab_type": "code",
        "colab": {}
      },
      "source": [
        "p = np.asarray(e['position'])\n",
        "n = np.asarray(e['name'])\n",
        "posp = []\n",
        "namep = []\n",
        "posn = []\n",
        "namen = []\n",
        "posp_list = []\n",
        "posn_list = []"
      ],
      "execution_count": 0,
      "outputs": []
    },
    {
      "cell_type": "code",
      "metadata": {
        "id": "Tj7mnZgFeM92",
        "colab_type": "code",
        "colab": {}
      },
      "source": [
        "for j in range(len(p)):\n",
        "  if type(p[j]) == float and len(posn) < 4000:\n",
        "    namen.append(n[j])\n",
        "    posn.append(200)"
      ],
      "execution_count": 0,
      "outputs": []
    },
    {
      "cell_type": "code",
      "metadata": {
        "id": "nbyz70cGpr1F",
        "colab_type": "code",
        "colab": {}
      },
      "source": [
        "for j in range(len(p)):\n",
        "  if type(p[j]) == str and len(posp) < 4000:\n",
        "    namep.append(n[j])\n",
        "    k = 1\n",
        "    string = ''\n",
        "    while p[j][k] != \",\":\n",
        "      string = string + p[j][k]\n",
        "      k += 1\n",
        "    posp.append(int(string))"
      ],
      "execution_count": 0,
      "outputs": []
    },
    {
      "cell_type": "code",
      "metadata": {
        "id": "jtYlYU1Apyks",
        "colab_type": "code",
        "colab": {}
      },
      "source": [
        "for a in range(len(posp)):\n",
        "  posp_list.append(data[namep[a]][posp[a]-150:posp[a]])"
      ],
      "execution_count": 0,
      "outputs": []
    },
    {
      "cell_type": "code",
      "metadata": {
        "id": "PQMkUc0e7uUC",
        "colab_type": "code",
        "colab": {}
      },
      "source": [
        "p_means = []\n",
        "p_sem = []\n",
        "p_std = []\n",
        "for thing in range(150):\n",
        "  hold = []\n",
        "  for thing2 in range(len(posp_list)):\n",
        "    if (len(posp_list[thing2]) > thing):\n",
        "      if (posp_list[thing2][thing] < 200):\n",
        "        hold.append(posp_list[thing2][thing])\n",
        "  p_means.append(np.mean(np.asarray(hold)))\n",
        "  p_sem.append(stats.sem(np.asarray(hold)))\n",
        "  p_std.append(np.std(np.asarray(hold)))"
      ],
      "execution_count": 0,
      "outputs": []
    },
    {
      "cell_type": "code",
      "metadata": {
        "id": "C0-keGjBs5bx",
        "colab_type": "code",
        "colab": {}
      },
      "source": [
        "for b in range(len(posn)):\n",
        "  posn_list.append(data[namen[b]][posn[b]-150:posn[b]])"
      ],
      "execution_count": 0,
      "outputs": []
    },
    {
      "cell_type": "code",
      "metadata": {
        "id": "IkQBhOxF1iVn",
        "colab_type": "code",
        "colab": {}
      },
      "source": [
        "n_means = []\n",
        "n_sem = []\n",
        "n_std = []\n",
        "for thing in range(150):\n",
        "  hold = []\n",
        "  for thing2 in range(len(posn_list)):\n",
        "    if (len(posn_list[thing2]) > thing):\n",
        "      if (posn_list[thing2][thing] < 200):\n",
        "        hold.append(posn_list[thing2][thing])\n",
        "  n_means.append(np.mean(np.asarray(hold)))\n",
        "  n_sem.append(stats.sem(np.asarray(hold)))\n",
        "  n_std.append(np.std(np.asarray(hold)))"
      ],
      "execution_count": 0,
      "outputs": []
    },
    {
      "cell_type": "code",
      "metadata": {
        "id": "H-6FG_zKlFmP",
        "colab_type": "code",
        "colab": {}
      },
      "source": [
        "n_means = np.asarray(n_means)\n",
        "n_std = np.asarray(n_std)\n",
        "p_means = np.asarray(p_means)\n",
        "p_std = np.asarray(p_std)"
      ],
      "execution_count": 0,
      "outputs": []
    },
    {
      "cell_type": "code",
      "metadata": {
        "id": "H9CJ2IUtj5BS",
        "colab_type": "code",
        "outputId": "1c1fa27f-c486-467c-8995-2d24d08579e2",
        "colab": {
          "base_uri": "https://localhost:8080/",
          "height": 317
        }
      },
      "source": [
        "x = np.linspace(-150,0,150)\n",
        "plt.figure(figsize=(7,4))\n",
        "plt.rcParams.update({'font.size': 18})\n",
        "plt.plot(x, n_means, color = 'blue')\n",
        "plt.fill_between(x, n_means+n_std, n_means-n_std, color='xkcd:azure', alpha = 0.3)\n",
        "plt.plot(x, p_means, color = 'red')\n",
        "plt.fill_between(x, p_means+p_std, p_means-p_std, color='xkcd:pink', alpha = 0.3)\n",
        "plt.ylabel('Mean HR (bpm)')\n",
        "plt.xlabel('Time Before Event (min)')\n",
        "plt.title('HR Trends Averaged Over 4000 Samples')\n",
        "plt.legend(['negative', 'positive'])\n",
        "plt.savefig('drive/My Drive/College Stuff/HRTrend2.png')"
      ],
      "execution_count": 13,
      "outputs": [
        {
          "output_type": "display_data",
          "data": {
            "image/png": "[encoded data removed]",
            "text/plain": [
              "<Figure size 504x288 with 1 Axes>"
            ]
          },
          "metadata": {
            "tags": [],
            "needs_background": "light"
          }
        }
      ]
    },
    {
      "cell_type": "code",
      "metadata": {
        "id": "ab9BlXDHldSi",
        "colab_type": "code",
        "colab": {}
      },
      "source": [
        ""
      ],
      "execution_count": 0,
      "outputs": []
    }
  ]
}